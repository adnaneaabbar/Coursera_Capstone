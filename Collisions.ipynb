{
    "cells": [
        {
            "cell_type": "code",
            "execution_count": 12,
            "metadata": {},
            "outputs": [],
            "source": "import pandas as pd\nimport numpy as np"
        },
        {
            "cell_type": "markdown",
            "metadata": {
                "collapsed": true
            },
            "source": "# Importing Data"
        },
        {
            "cell_type": "code",
            "execution_count": 13,
            "metadata": {},
            "outputs": [
                {
                    "name": "stderr",
                    "output_type": "stream",
                    "text": "/opt/conda/envs/Python36/lib/python3.6/site-packages/IPython/core/interactiveshell.py:3020: DtypeWarning: Columns (33) have mixed types. Specify dtype option on import or set low_memory=False.\n  interactivity=interactivity, compiler=compiler, result=result)\n"
                }
            ],
            "source": "df = pd.read_csv(\"https://s3.us.cloud-object-storage.appdomain.cloud/cf-courses-data/CognitiveClass/DP0701EN/version-2/Data-Collisions.csv\")"
        },
        {
            "cell_type": "markdown",
            "metadata": {},
            "source": "# Uncovering some flaws in the dataset"
        },
        {
            "cell_type": "markdown",
            "metadata": {},
            "source": "## Discovering Types and Number of Values"
        },
        {
            "cell_type": "code",
            "execution_count": 14,
            "metadata": {},
            "outputs": [
                {
                    "name": "stdout",
                    "output_type": "stream",
                    "text": "<class 'pandas.core.frame.DataFrame'>\nRangeIndex: 194673 entries, 0 to 194672\nData columns (total 38 columns):\nSEVERITYCODE      194673 non-null int64\nX                 189339 non-null float64\nY                 189339 non-null float64\nOBJECTID          194673 non-null int64\nINCKEY            194673 non-null int64\nCOLDETKEY         194673 non-null int64\nREPORTNO          194673 non-null object\nSTATUS            194673 non-null object\nADDRTYPE          192747 non-null object\nINTKEY            65070 non-null float64\nLOCATION          191996 non-null object\nEXCEPTRSNCODE     84811 non-null object\nEXCEPTRSNDESC     5638 non-null object\nSEVERITYCODE.1    194673 non-null int64\nSEVERITYDESC      194673 non-null object\nCOLLISIONTYPE     189769 non-null object\nPERSONCOUNT       194673 non-null int64\nPEDCOUNT          194673 non-null int64\nPEDCYLCOUNT       194673 non-null int64\nVEHCOUNT          194673 non-null int64\nINCDATE           194673 non-null object\nINCDTTM           194673 non-null object\nJUNCTIONTYPE      188344 non-null object\nSDOT_COLCODE      194673 non-null int64\nSDOT_COLDESC      194673 non-null object\nINATTENTIONIND    29805 non-null object\nUNDERINFL         189789 non-null object\nWEATHER           189592 non-null object\nROADCOND          189661 non-null object\nLIGHTCOND         189503 non-null object\nPEDROWNOTGRNT     4667 non-null object\nSDOTCOLNUM        114936 non-null float64\nSPEEDING          9333 non-null object\nST_COLCODE        194655 non-null object\nST_COLDESC        189769 non-null object\nSEGLANEKEY        194673 non-null int64\nCROSSWALKKEY      194673 non-null int64\nHITPARKEDCAR      194673 non-null object\ndtypes: float64(4), int64(12), object(22)\nmemory usage: 56.4+ MB\n"
                }
            ],
            "source": "df.info()"
        },
        {
            "cell_type": "markdown",
            "metadata": {},
            "source": "## Counting Missing Values"
        },
        {
            "cell_type": "code",
            "execution_count": 15,
            "metadata": {},
            "outputs": [
                {
                    "data": {
                        "text/plain": "SEVERITYCODE           0\nX                   5334\nY                   5334\nOBJECTID               0\nINCKEY                 0\nCOLDETKEY              0\nREPORTNO               0\nSTATUS                 0\nADDRTYPE            1926\nINTKEY            129603\nLOCATION            2677\nEXCEPTRSNCODE     109862\nEXCEPTRSNDESC     189035\nSEVERITYCODE.1         0\nSEVERITYDESC           0\nCOLLISIONTYPE       4904\nPERSONCOUNT            0\nPEDCOUNT               0\nPEDCYLCOUNT            0\nVEHCOUNT               0\nINCDATE                0\nINCDTTM                0\nJUNCTIONTYPE        6329\nSDOT_COLCODE           0\nSDOT_COLDESC           0\nINATTENTIONIND    164868\nUNDERINFL           4884\nWEATHER             5081\nROADCOND            5012\nLIGHTCOND           5170\nPEDROWNOTGRNT     190006\nSDOTCOLNUM         79737\nSPEEDING          185340\nST_COLCODE            18\nST_COLDESC          4904\nSEGLANEKEY             0\nCROSSWALKKEY           0\nHITPARKEDCAR           0\ndtype: int64"
                    },
                    "execution_count": 15,
                    "metadata": {},
                    "output_type": "execute_result"
                }
            ],
            "source": "df.isna().sum()"
        },
        {
            "cell_type": "markdown",
            "metadata": {},
            "source": "## Huge Unbalance"
        },
        {
            "cell_type": "code",
            "execution_count": 16,
            "metadata": {},
            "outputs": [
                {
                    "name": "stdout",
                    "output_type": "stream",
                    "text": "1    136485\n2     58188\nName: SEVERITYCODE, dtype: int64\n"
                }
            ],
            "source": "print(df['SEVERITYCODE'].value_counts())"
        },
        {
            "cell_type": "markdown",
            "metadata": {},
            "source": "## Counting Features Values"
        },
        {
            "cell_type": "code",
            "execution_count": 17,
            "metadata": {},
            "outputs": [
                {
                    "name": "stdout",
                    "output_type": "stream",
                    "text": "Clear                       111135\nRaining                      33145\nOvercast                     27714\nUnknown                      15091\nSnowing                        907\nOther                          832\nFog/Smog/Smoke                 569\nSleet/Hail/Freezing Rain       113\nBlowing Sand/Dirt               56\nSevere Crosswind                25\nPartly Cloudy                    5\nName: WEATHER, dtype: int64\n"
                }
            ],
            "source": "print(df['WEATHER'].value_counts())"
        },
        {
            "cell_type": "code",
            "execution_count": 18,
            "metadata": {},
            "outputs": [
                {
                    "name": "stdout",
                    "output_type": "stream",
                    "text": "Dry               124510\nWet                47474\nUnknown            15078\nIce                 1209\nSnow/Slush          1004\nOther                132\nStanding Water       115\nSand/Mud/Dirt         75\nOil                   64\nName: ROADCOND, dtype: int64\n"
                }
            ],
            "source": "print(df['ROADCOND'].value_counts())"
        },
        {
            "cell_type": "code",
            "execution_count": 19,
            "metadata": {},
            "outputs": [
                {
                    "name": "stdout",
                    "output_type": "stream",
                    "text": "Daylight                    116137\nDark - Street Lights On      48507\nUnknown                      13473\nDusk                          5902\nDawn                          2502\nDark - No Street Lights       1537\nDark - Street Lights Off      1199\nOther                          235\nDark - Unknown Lighting         11\nName: LIGHTCOND, dtype: int64\n"
                }
            ],
            "source": "print(df['LIGHTCOND'].value_counts())"
        },
        {
            "cell_type": "markdown",
            "metadata": {},
            "source": "# Resampling"
        },
        {
            "cell_type": "code",
            "execution_count": 24,
            "metadata": {},
            "outputs": [
                {
                    "data": {
                        "text/plain": "2    58188\n1    58188\nName: SEVERITYCODE, dtype: int64"
                    },
                    "execution_count": 24,
                    "metadata": {},
                    "output_type": "execute_result"
                }
            ],
            "source": "from sklearn.utils import resample\n\ndf_maj = df[df.SEVERITYCODE == 1]\ndf_min = df[df.SEVERITYCODE == 2]\n\ndf_sample = resample(df_maj, replace=False, n_samples=58188, random_state=123)\ndf = pd.concat([df_sample, df_min])\n\ndf['SEVERITYCODE'].value_counts()"
        },
        {
            "cell_type": "markdown",
            "metadata": {},
            "source": "# Converting"
        },
        {
            "cell_type": "code",
            "execution_count": 26,
            "metadata": {},
            "outputs": [
                {
                    "data": {
                        "text/html": "<div>\n<style scoped>\n    .dataframe tbody tr th:only-of-type {\n        vertical-align: middle;\n    }\n\n    .dataframe tbody tr th {\n        vertical-align: top;\n    }\n\n    .dataframe thead th {\n        text-align: right;\n    }\n</style>\n<table border=\"1\" class=\"dataframe\">\n  <thead>\n    <tr style=\"text-align: right;\">\n      <th></th>\n      <th>SEVERITYCODE</th>\n      <th>X</th>\n      <th>Y</th>\n      <th>OBJECTID</th>\n      <th>INCKEY</th>\n      <th>COLDETKEY</th>\n      <th>REPORTNO</th>\n      <th>STATUS</th>\n      <th>ADDRTYPE</th>\n      <th>INTKEY</th>\n      <th>...</th>\n      <th>ROADCOND</th>\n      <th>LIGHTCOND</th>\n      <th>PEDROWNOTGRNT</th>\n      <th>SDOTCOLNUM</th>\n      <th>SPEEDING</th>\n      <th>ST_COLCODE</th>\n      <th>ST_COLDESC</th>\n      <th>SEGLANEKEY</th>\n      <th>CROSSWALKKEY</th>\n      <th>HITPARKEDCAR</th>\n    </tr>\n  </thead>\n  <tbody>\n    <tr>\n      <th>65794</th>\n      <td>1</td>\n      <td>-122.301444</td>\n      <td>47.610799</td>\n      <td>72086</td>\n      <td>87844</td>\n      <td>87844</td>\n      <td>2907830</td>\n      <td>Matched</td>\n      <td>Block</td>\n      <td>NaN</td>\n      <td>...</td>\n      <td>Unknown</td>\n      <td>Daylight</td>\n      <td>NaN</td>\n      <td>8030021.0</td>\n      <td>NaN</td>\n      <td>32</td>\n      <td>One parked--one moving</td>\n      <td>0</td>\n      <td>0</td>\n      <td>N</td>\n    </tr>\n    <tr>\n      <th>56870</th>\n      <td>1</td>\n      <td>-122.377071</td>\n      <td>47.580697</td>\n      <td>62821</td>\n      <td>76390</td>\n      <td>76390</td>\n      <td>2825351</td>\n      <td>Matched</td>\n      <td>Block</td>\n      <td>NaN</td>\n      <td>...</td>\n      <td>Wet</td>\n      <td>Dark - Street Lights On</td>\n      <td>NaN</td>\n      <td>7282003.0</td>\n      <td>NaN</td>\n      <td>50</td>\n      <td>Fixed object</td>\n      <td>0</td>\n      <td>0</td>\n      <td>N</td>\n    </tr>\n    <tr>\n      <th>36864</th>\n      <td>1</td>\n      <td>-122.291007</td>\n      <td>47.561104</td>\n      <td>41990</td>\n      <td>56340</td>\n      <td>56340</td>\n      <td>2280330</td>\n      <td>Matched</td>\n      <td>Block</td>\n      <td>NaN</td>\n      <td>...</td>\n      <td>Dry</td>\n      <td>Daylight</td>\n      <td>NaN</td>\n      <td>6065020.0</td>\n      <td>NaN</td>\n      <td>32</td>\n      <td>One parked--one moving</td>\n      <td>0</td>\n      <td>0</td>\n      <td>N</td>\n    </tr>\n    <tr>\n      <th>29557</th>\n      <td>1</td>\n      <td>-122.342939</td>\n      <td>47.627141</td>\n      <td>34392</td>\n      <td>48360</td>\n      <td>48360</td>\n      <td>1783408</td>\n      <td>Matched</td>\n      <td>Block</td>\n      <td>NaN</td>\n      <td>...</td>\n      <td>Dry</td>\n      <td>Daylight</td>\n      <td>NaN</td>\n      <td>5215038.0</td>\n      <td>NaN</td>\n      <td>32</td>\n      <td>One parked--one moving</td>\n      <td>0</td>\n      <td>0</td>\n      <td>N</td>\n    </tr>\n    <tr>\n      <th>38852</th>\n      <td>1</td>\n      <td>-122.342315</td>\n      <td>47.658016</td>\n      <td>44067</td>\n      <td>56883</td>\n      <td>56883</td>\n      <td>2624555</td>\n      <td>Matched</td>\n      <td>Intersection</td>\n      <td>26822.0</td>\n      <td>...</td>\n      <td>Dry</td>\n      <td>Daylight</td>\n      <td>NaN</td>\n      <td>6244051.0</td>\n      <td>NaN</td>\n      <td>30</td>\n      <td>From opposite direction - all others</td>\n      <td>0</td>\n      <td>0</td>\n      <td>N</td>\n    </tr>\n  </tbody>\n</table>\n<p>5 rows \u00d7 38 columns</p>\n</div>",
                        "text/plain": "       SEVERITYCODE           X          Y  OBJECTID  INCKEY  COLDETKEY  \\\n65794             1 -122.301444  47.610799     72086   87844      87844   \n56870             1 -122.377071  47.580697     62821   76390      76390   \n36864             1 -122.291007  47.561104     41990   56340      56340   \n29557             1 -122.342939  47.627141     34392   48360      48360   \n38852             1 -122.342315  47.658016     44067   56883      56883   \n\n      REPORTNO   STATUS      ADDRTYPE   INTKEY  ... ROADCOND  \\\n65794  2907830  Matched         Block      NaN  ...  Unknown   \n56870  2825351  Matched         Block      NaN  ...      Wet   \n36864  2280330  Matched         Block      NaN  ...      Dry   \n29557  1783408  Matched         Block      NaN  ...      Dry   \n38852  2624555  Matched  Intersection  26822.0  ...      Dry   \n\n                     LIGHTCOND PEDROWNOTGRNT  SDOTCOLNUM SPEEDING ST_COLCODE  \\\n65794                 Daylight           NaN   8030021.0      NaN         32   \n56870  Dark - Street Lights On           NaN   7282003.0      NaN         50   \n36864                 Daylight           NaN   6065020.0      NaN         32   \n29557                 Daylight           NaN   5215038.0      NaN         32   \n38852                 Daylight           NaN   6244051.0      NaN         30   \n\n                                 ST_COLDESC  SEGLANEKEY  CROSSWALKKEY  \\\n65794                One parked--one moving           0             0   \n56870                          Fixed object           0             0   \n36864                One parked--one moving           0             0   \n29557                One parked--one moving           0             0   \n38852  From opposite direction - all others           0             0   \n\n       HITPARKEDCAR  \n65794             N  \n56870             N  \n36864             N  \n29557             N  \n38852             N  \n\n[5 rows x 38 columns]"
                    },
                    "execution_count": 26,
                    "metadata": {},
                    "output_type": "execute_result"
                }
            ],
            "source": "df = df.astype({\"WEATHER\":'category', \"ROADCOND\":'category', \"LIGHTCOND\":'category'})\ndf.head()"
        },
        {
            "cell_type": "markdown",
            "metadata": {},
            "source": "# Label Encoding"
        },
        {
            "cell_type": "code",
            "execution_count": 29,
            "metadata": {},
            "outputs": [
                {
                    "data": {
                        "text/html": "<div>\n<style scoped>\n    .dataframe tbody tr th:only-of-type {\n        vertical-align: middle;\n    }\n\n    .dataframe tbody tr th {\n        vertical-align: top;\n    }\n\n    .dataframe thead th {\n        text-align: right;\n    }\n</style>\n<table border=\"1\" class=\"dataframe\">\n  <thead>\n    <tr style=\"text-align: right;\">\n      <th></th>\n      <th>WEATHER</th>\n      <th>ROADCOND</th>\n      <th>LIGHTCOND</th>\n      <th>WEATHER_c</th>\n      <th>ROADCOND_c</th>\n      <th>LIGHTCOND_c</th>\n    </tr>\n  </thead>\n  <tbody>\n    <tr>\n      <th>65794</th>\n      <td>Unknown</td>\n      <td>Unknown</td>\n      <td>Daylight</td>\n      <td>10</td>\n      <td>7</td>\n      <td>5</td>\n    </tr>\n    <tr>\n      <th>56870</th>\n      <td>Clear</td>\n      <td>Wet</td>\n      <td>Dark - Street Lights On</td>\n      <td>1</td>\n      <td>8</td>\n      <td>2</td>\n    </tr>\n    <tr>\n      <th>36864</th>\n      <td>Overcast</td>\n      <td>Dry</td>\n      <td>Daylight</td>\n      <td>4</td>\n      <td>0</td>\n      <td>5</td>\n    </tr>\n    <tr>\n      <th>29557</th>\n      <td>Clear</td>\n      <td>Dry</td>\n      <td>Daylight</td>\n      <td>1</td>\n      <td>0</td>\n      <td>5</td>\n    </tr>\n    <tr>\n      <th>38852</th>\n      <td>Clear</td>\n      <td>Dry</td>\n      <td>Daylight</td>\n      <td>1</td>\n      <td>0</td>\n      <td>5</td>\n    </tr>\n  </tbody>\n</table>\n</div>",
                        "text/plain": "        WEATHER ROADCOND                LIGHTCOND  WEATHER_c  ROADCOND_c  \\\n65794   Unknown  Unknown                 Daylight         10           7   \n56870     Clear      Wet  Dark - Street Lights On          1           8   \n36864  Overcast      Dry                 Daylight          4           0   \n29557     Clear      Dry                 Daylight          1           0   \n38852     Clear      Dry                 Daylight          1           0   \n\n       LIGHTCOND_c  \n65794            5  \n56870            2  \n36864            5  \n29557            5  \n38852            5  "
                    },
                    "execution_count": 29,
                    "metadata": {},
                    "output_type": "execute_result"
                }
            ],
            "source": "df[\"WEATHER_c\"] = df[\"WEATHER\"].cat.codes\ndf[\"ROADCOND_c\"] = df[\"ROADCOND\"].cat.codes\ndf[\"LIGHTCOND_c\"] = df[\"LIGHTCOND\"].cat.codes\nFeature = df[['WEATHER','ROADCOND','LIGHTCOND','WEATHER_c','ROADCOND_c','LIGHTCOND_c']]\nX = Feature\nX.head()"
        },
        {
            "cell_type": "code",
            "execution_count": 34,
            "metadata": {},
            "outputs": [
                {
                    "data": {
                        "text/plain": "array([1, 1, 1, ..., 2, 2, 2])"
                    },
                    "execution_count": 34,
                    "metadata": {},
                    "output_type": "execute_result"
                }
            ],
            "source": "y = df['SEVERITYCODE'].values\ny[0:]"
        },
        {
            "cell_type": "code",
            "execution_count": null,
            "metadata": {},
            "outputs": [],
            "source": ""
        }
    ],
    "metadata": {
        "kernelspec": {
            "display_name": "Python 3.6",
            "language": "python",
            "name": "python3"
        },
        "language_info": {
            "codemirror_mode": {
                "name": "ipython",
                "version": 3
            },
            "file_extension": ".py",
            "mimetype": "text/x-python",
            "name": "python",
            "nbconvert_exporter": "python",
            "pygments_lexer": "ipython3",
            "version": "3.6.9"
        }
    },
    "nbformat": 4,
    "nbformat_minor": 1
}